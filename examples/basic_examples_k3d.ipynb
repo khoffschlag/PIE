{
 "cells": [
  {
   "cell_type": "markdown",
   "metadata": {
    "collapsed": false,
    "jupyter": {
     "outputs_hidden": false
    }
   },
   "source": [
    "# Introducing a selection of fundamental features using PIE's k3d plotter. Please note that this plotter is designed for utilization within a Jupyter notebook. For non-interactive plots that are suitable for both inside and outside the Jupyter notebook environment, consider using PIE's matplotlib plotter."
   ]
  },
  {
   "cell_type": "markdown",
   "metadata": {
    "collapsed": false,
    "jupyter": {
     "outputs_hidden": false
    }
   },
   "source": [
    "## Plotting two inequalities (with their intersection highlighted)"
   ]
  },
  {
   "cell_type": "code",
   "execution_count": 1,
   "metadata": {
    "ExecuteTime": {
     "end_time": "2023-08-13T21:36:13.399514235Z",
     "start_time": "2023-08-13T21:36:13.127580873Z"
    },
    "collapsed": false,
    "jupyter": {
     "outputs_hidden": false
    },
    "scrolled": true
   },
   "outputs": [
    {
     "data": {
      "application/vnd.jupyter.widget-view+json": {
       "model_id": "4cd1155a4274495c98c32cb5afb580ac",
       "version_major": 2,
       "version_minor": 0
      },
      "text/plain": [
       "Output()"
      ]
     },
     "metadata": {},
     "output_type": "display_data"
    }
   ],
   "source": [
    "from PIE.k3d.plotter import plot_algebraic_problem_3D\n",
    "\n",
    "\n",
    "def expr_1(x, y, z):\n",
    "    return (x >= 10) & (y <= 20)\n",
    "\n",
    "def expr_2(x, y, z):\n",
    "    return z <= 30\n",
    "\n",
    "plot_algebraic_problem_3D(\n",
    "    expressions=[expr_1, expr_2],\n",
    "    domain=(0, 50),\n",
    "    plot_intersection_only=False\n",
    ")"
   ]
  },
  {
   "cell_type": "markdown",
   "metadata": {},
   "source": [
    "## Plot only the intersection"
   ]
  },
  {
   "cell_type": "code",
   "execution_count": 2,
   "metadata": {},
   "outputs": [
    {
     "data": {
      "application/vnd.jupyter.widget-view+json": {
       "model_id": "beee207f895042bf84f235631ff426c8",
       "version_major": 2,
       "version_minor": 0
      },
      "text/plain": [
       "Output()"
      ]
     },
     "metadata": {},
     "output_type": "display_data"
    }
   ],
   "source": [
    "plot_algebraic_problem_3D(\n",
    "    expressions=[expr_1, expr_2],\n",
    "    domain=(0, 50),\n",
    "    plot_intersection_only=True\n",
    ")"
   ]
  },
  {
   "cell_type": "markdown",
   "metadata": {
    "collapsed": false,
    "jupyter": {
     "outputs_hidden": false
    }
   },
   "source": [
    "# Let's plot some more interesting inequalities!"
   ]
  },
  {
   "cell_type": "code",
   "execution_count": 3,
   "metadata": {
    "ExecuteTime": {
     "end_time": "2023-08-13T11:00:54.130576866Z",
     "start_time": "2023-08-13T11:00:53.914663990Z"
    },
    "collapsed": false,
    "jupyter": {
     "outputs_hidden": false
    }
   },
   "outputs": [
    {
     "data": {
      "application/vnd.jupyter.widget-view+json": {
       "model_id": "ef6bd18e7227412081a92618cab474bf",
       "version_major": 2,
       "version_minor": 0
      },
      "text/plain": [
       "Output()"
      ]
     },
     "metadata": {},
     "output_type": "display_data"
    }
   ],
   "source": [
    "def expr_1(x, y, z):\n",
    "    return 2*x + 3*y + 4*z <= 6\n",
    "\n",
    "def expr_2(x, y, z):\n",
    "    return z <= (3/2) - (1/2)*x - (3/4)*y\n",
    "\n",
    "plot_algebraic_problem_3D(\n",
    "    expressions=[expr_1, expr_2],\n",
    "    domain=(0, 5),\n",
    "    plot_intersection_only=False\n",
    ")"
   ]
  },
  {
   "cell_type": "markdown",
   "metadata": {
    "collapsed": false,
    "jupyter": {
     "outputs_hidden": false
    }
   },
   "source": [
    "## Look's a bit strange... Let's make the resolution higher!"
   ]
  },
  {
   "cell_type": "code",
   "execution_count": 4,
   "metadata": {
    "ExecuteTime": {
     "end_time": "2023-08-13T11:01:31.754158421Z",
     "start_time": "2023-08-13T11:00:54.133391338Z"
    },
    "collapsed": false,
    "jupyter": {
     "outputs_hidden": false
    }
   },
   "outputs": [
    {
     "data": {
      "application/vnd.jupyter.widget-view+json": {
       "model_id": "c1662f9f1ac846b5a5399b1a667f001f",
       "version_major": 2,
       "version_minor": 0
      },
      "text/plain": [
       "Output()"
      ]
     },
     "metadata": {},
     "output_type": "display_data"
    }
   ],
   "source": [
    "plot_algebraic_problem_3D(\n",
    "    expressions=[expr_1, expr_2],\n",
    "    domain=(0, 5),\n",
    "    plot_intersection_only=False,\n",
    "    resolution=50\n",
    ")"
   ]
  },
  {
   "cell_type": "markdown",
   "metadata": {},
   "source": [
    "## WARNING: The plot might appear temporarily empty upon loading, as high resolutions and big domains can causes a delay in rendering of the (in-)equations area even after the initial loading process of the coordinate system!"
   ]
  },
  {
   "cell_type": "markdown",
   "metadata": {
    "collapsed": false,
    "jupyter": {
     "outputs_hidden": false
    }
   },
   "source": [
    "## Looks much better. Already noticed that we only got an intersection even with plot_intersection_only set to False? Maybe both inequalities are equivalent... Let's have a look at the seperate inequalities"
   ]
  },
  {
   "cell_type": "code",
   "execution_count": 5,
   "metadata": {
    "ExecuteTime": {
     "end_time": "2023-08-13T11:02:06.877933354Z",
     "start_time": "2023-08-13T11:01:31.760330614Z"
    },
    "collapsed": false,
    "jupyter": {
     "outputs_hidden": false
    }
   },
   "outputs": [
    {
     "data": {
      "application/vnd.jupyter.widget-view+json": {
       "model_id": "32d41065fb5e4c6186a3fb95bb749666",
       "version_major": 2,
       "version_minor": 0
      },
      "text/plain": [
       "Output()"
      ]
     },
     "metadata": {},
     "output_type": "display_data"
    }
   ],
   "source": [
    "plot_algebraic_problem_3D(\n",
    "    expressions=[expr_1],\n",
    "    domain=(0, 5),\n",
    "    plot_intersection_only=False,\n",
    "    resolution=20\n",
    ")"
   ]
  },
  {
   "cell_type": "code",
   "execution_count": 6,
   "metadata": {
    "ExecuteTime": {
     "end_time": "2023-08-13T11:02:42.046054864Z",
     "start_time": "2023-08-13T11:02:06.858566583Z"
    },
    "collapsed": false,
    "jupyter": {
     "outputs_hidden": false
    }
   },
   "outputs": [
    {
     "data": {
      "application/vnd.jupyter.widget-view+json": {
       "model_id": "a9ffa475e18746c09b8ea086d0c92480",
       "version_major": 2,
       "version_minor": 0
      },
      "text/plain": [
       "Output()"
      ]
     },
     "metadata": {},
     "output_type": "display_data"
    }
   ],
   "source": [
    "plot_algebraic_problem_3D(\n",
    "    expressions=[expr_2],\n",
    "    domain=(0, 5),\n",
    "    plot_intersection_only=False,\n",
    "    resolution=20\n",
    ")"
   ]
  },
  {
   "cell_type": "markdown",
   "metadata": {
    "collapsed": false,
    "jupyter": {
     "outputs_hidden": false
    }
   },
   "source": [
    "Considering the plot alone, we cannot guarantee the equivalence of both inequalities as there may be a possibility of splitting in a region that is not plotted, such as for negative x values. But fortunately we still have traditional mathematics to prove that both inequalities are equivalent.\n",
    "\n",
    "We can start by rearranging the inequality 2x + 3y + 4z ≤ 6 as 4z ≤ 6 - 2x - 3y.\n",
    "Then, we can divide both sides of the inequality by 4 to get z ≤ (6 - 2x - 3y)/4.\n",
    "Simplifying this expression, we get z ≤ (3/2) - (1/2)*x - (3/4)*y, which is the other inequality.\n",
    "\n",
    "Therefore, the two inequalities are equivalent, meaning that they have the same solutions for x, y, and z that satisfy the inequality.\n",
    "\n"
   ]
  },
  {
   "cell_type": "code",
   "execution_count": null,
   "metadata": {},
   "outputs": [],
   "source": [
    "plot_algebraic_problem_3D(\n",
    "    expressions=[expr_2],\n",
    "    domain=(0, 5),\n",
    "    plot_intersection_only=False,\n",
    "    resolution=50\n",
    ")"
   ]
  },
  {
   "cell_type": "markdown",
   "metadata": {},
   "source": [
    "Considering the plot alone, we cannot guarantee the equivalence of both inequalities as there may be a possibility of splitting in a region that is not plotted, such as for negative x values. But fortunately we still have traditional mathematics to prove that both inequalities are equivalent.\n",
    "\n",
    "We can start by rearranging the inequality 2x + 3y + 4z ≤ 6 as 4z ≤ 6 - 2x - 3y. Then, we can divide both sides of the inequality by 4 to get z ≤ (6 - 2x - 3y)/4. Simplifying this expression, we get z ≤ (3/2) - (1/2)x - (3/4)y, which is the other inequality.\n",
    "\n",
    "Therefore, the two inequalities are equivalent, meaning that they have the same solutions for x, y, and z that satisfy the inequality.\n"
   ]
  }
 ],
 "metadata": {
  "kernelspec": {
   "display_name": "Python 3 (ipykernel)",
   "language": "python",
   "name": "python3"
  },
  "language_info": {
   "codemirror_mode": {
    "name": "ipython",
    "version": 3
   },
   "file_extension": ".py",
   "mimetype": "text/x-python",
   "name": "python",
   "nbconvert_exporter": "python",
   "pygments_lexer": "ipython3",
   "version": "3.10.6"
  }
 },
 "nbformat": 4,
 "nbformat_minor": 4
}
